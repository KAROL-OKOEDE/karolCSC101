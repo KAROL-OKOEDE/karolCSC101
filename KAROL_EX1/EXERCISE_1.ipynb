{
 "cells": [
  {
   "cell_type": "code",
   "execution_count": 6,
   "metadata": {},
   "outputs": [
    {
     "name": "stdout",
     "output_type": "stream",
     "text": [
      "100\n",
      "data type of variable num is <class 'int'>\n",
      "34.45\n",
      "data type of fnum is <class 'float'>\n",
      "(3+4j)\n",
      "data type of variable cnum is <class 'complex'>\n"
     ]
    }
   ],
   "source": [
    "#integer number\n",
    "num=100\n",
    "print(num)\n",
    "print(\"data type of variable num is\",type(num))\n",
    "\n",
    "#float number\n",
    "fnum=34.45\n",
    "print(fnum)\n",
    "print(\"data type of fnum is\",type(fnum))\n",
    "\n",
    "#complex number\n",
    "cnum = 3 + 4j\n",
    "print(cnum)\n",
    "print(\"data type of variable cnum is\",type(cnum))"
   ]
  },
  {
   "cell_type": "code",
   "execution_count": 7,
   "metadata": {},
   "outputs": [
    {
     "name": "stdout",
     "output_type": "stream",
     "text": [
      "hi my name is matthew. i am string\n",
      "<class 'str'>\n",
      "hi my name is precious and i am also a string\n",
      "<class 'str'>\n"
     ]
    }
   ],
   "source": [
    "#python program to print strings and type\n",
    "str1 = \"hi my name is matthew. i am string\"\n",
    "str2 = \"hi my name is precious and i am also a string\"\n",
    "\n",
    "#display string str1 and its type\n",
    "print(str1)\n",
    "print(type(str1))\n",
    "\n",
    "#displaying string str2 and its type\n",
    "print(str2)\n",
    "print(type(str2))"
   ]
  },
  {
   "cell_type": "code",
   "execution_count": 11,
   "metadata": {},
   "outputs": [
    {
     "name": "stdout",
     "output_type": "stream",
     "text": [
      "(1, 2, 3, 4, 5)\n",
      "Nifemi\n",
      "gina\n",
      "Marho\n",
      "45\n"
     ]
    }
   ],
   "source": [
    "#tuple of integers\n",
    "t1 = (1, 2, 3, 4, 5)\n",
    "\n",
    "#prints entire tuple\n",
    "print(t1)\n",
    "\n",
    "#tuple of strings\n",
    "t2=(\"Nifemi\", \"gina\", \"Marho\")\n",
    "\n",
    "#loop through tuple elements\n",
    "for s in t2:\n",
    "    print(s)\n",
    "    \n",
    "#tuple of mixed type elements\n",
    "t3 = (2, \"ebube\", \"45\", \"jeffery\")\n",
    "'''\n",
    "print a specific element\n",
    "indexes start with zero\n",
    "'''\n",
    "print(t3[2])"
   ]
  },
  {
   "cell_type": "code",
   "execution_count": 12,
   "metadata": {},
   "outputs": [
    {
     "name": "stdout",
     "output_type": "stream",
     "text": [
      "[1, 2, 3, 4, 5]\n",
      "Mouse\n",
      "keyboard\n",
      "monitor\n",
      "element at index 3 is: Python programming\n"
     ]
    }
   ],
   "source": [
    "#list of integers\n",
    "lis1 = [1, 2, 3, 4, 5]\n",
    "\n",
    "#prints entire list\n",
    "print(lis1)\n",
    "\n",
    "#list of string\n",
    "lis2 = [\"Mouse\", \"keyboard\", \"monitor\"]\n",
    "\n",
    "#loop through list elements\n",
    "for x in lis2:\n",
    "    print (x)\n",
    "    \n",
    "#list of mixed type of elements\n",
    "lis3 = [20, \"CSC101\", 15, \"Python programming\"]\n",
    "\n",
    "'''print a specific element in list indexes start with zero'''\n",
    "\n",
    "print(\"element at index 3 is:\", lis3[3])"
   ]
  },
  {
   "cell_type": "code",
   "execution_count": 14,
   "metadata": {},
   "outputs": [
    {
     "name": "stdout",
     "output_type": "stream",
     "text": [
      "maryam\n",
      "Shefiu\n",
      "25\n"
     ]
    }
   ],
   "source": [
    "#dictionary example\n",
    "dict = {1:\"maryam\", \"lastname\":\"Shefiu\", \"age\":25}\n",
    "\n",
    "#prints the value where key value is 1\n",
    "print(dict[1])\n",
    "\n",
    "#print the value where key value is \"lastname\"\n",
    "print(dict[\"lastname\"])\n",
    "\n",
    "#prints the value where key value is \"age\"\n",
    "print(dict[\"age\"])"
   ]
  },
  {
   "cell_type": "code",
   "execution_count": 15,
   "metadata": {},
   "outputs": [
    {
     "name": "stdout",
     "output_type": "stream",
     "text": [
      "adaobi\n",
      "Ugochi\n",
      "joseph\n",
      "kamera\n",
      "False\n",
      "{'adaobi', 99, 'joseph', 'Ugochi', 'kamera'}\n"
     ]
    }
   ],
   "source": [
    "#set example\n",
    "myset = {\"joseph\", \"adaobi\", \"kamera\", \"Ugochi\"}\n",
    "\n",
    "#loop through set\n",
    "for a in myset:\n",
    "    print(a)\n",
    "\n",
    "#checking whether 2 exists in myset\n",
    "print(2 in myset)\n",
    "\n",
    "#adding new element\n",
    "myset.add(99)\n",
    "print(myset)\n"
   ]
  },
  {
   "cell_type": "code",
   "execution_count": 17,
   "metadata": {},
   "outputs": [
    {
     "name": "stdout",
     "output_type": "stream",
     "text": [
      "amount is 102.0\n",
      "simple interest is 2.0\n"
     ]
    }
   ],
   "source": [
    "P = 100\n",
    "R = 1\n",
    "T = 2\n",
    "\n",
    "# Simple interest\n",
    "A = (p*(1 + ((R / 100.0) * T)))\n",
    "print(\"amount is\", A)\n",
    "SI = A - P\n",
    "print(\"simple interest is\", SI)"
   ]
  },
  {
   "cell_type": "code",
   "execution_count": 13,
   "metadata": {},
   "outputs": [
    {
     "name": "stdout",
     "output_type": "stream",
     "text": [
      "the solution are (-3+0j) (-2+0j)\n"
     ]
    }
   ],
   "source": [
    "# Solving the quadratic equation ax**2 + bx + c = 0 \n",
    "# import complex math module\n",
    "import cmath\n",
    "\n",
    "a = 1\n",
    "b = 5\n",
    "c = 6\n",
    "\n",
    "# calculate the discriminant\n",
    "d = (b**2) - (4*a*c)\n",
    "\n",
    "#find two solution\n",
    "sol1 = (-b-cmath.sqrt(d))/(2*a)\n",
    "sol2 = (-b+cmath.sqrt(d))/(2*a)\n",
    "\n",
    "print('the solution are', sol1, sol2)"
   ]
  },
  {
   "cell_type": "code",
   "execution_count": 12,
   "metadata": {},
   "outputs": [
    {
     "name": "stdout",
     "output_type": "stream",
     "text": [
      "enter first side:5\n",
      "enter second side: 6\n",
      "enter third side: 7\n",
      "the area of the triangle is 14.70\n"
     ]
    }
   ],
   "source": [
    "# python program to find the area of triangle\n",
    "\n",
    "#Take input from the user\n",
    "a = float(input('enter first side:'))\n",
    "b = float(input('enter second side: '))\n",
    "c = float(input('enter third side: '))\n",
    "\n",
    "# calculate the semi-perimeter\n",
    "s = (a + b + c) / 2\n",
    "\n",
    "#calculate the area\n",
    "area = (s*(s-a)*(s-b)*(s-c)) ** 0.5\n",
    "print('the area of the triangle is %0.2f' %area)"
   ]
  },
  {
   "cell_type": "markdown",
   "metadata": {},
   "source": [
    "# control structure"
   ]
  },
  {
   "cell_type": "code",
   "execution_count": 15,
   "metadata": {},
   "outputs": [
    {
     "ename": "IndentationError",
     "evalue": "expected an indented block (<ipython-input-15-32d87f2ec2d3>, line 4)",
     "output_type": "error",
     "traceback": [
      "\u001b[1;36m  File \u001b[1;32m\"<ipython-input-15-32d87f2ec2d3>\"\u001b[1;36m, line \u001b[1;32m4\u001b[0m\n\u001b[1;33m    print(\"x is not greater than y\")\u001b[0m\n\u001b[1;37m    ^\u001b[0m\n\u001b[1;31mIndentationError\u001b[0m\u001b[1;31m:\u001b[0m expected an indented block\n"
     ]
    }
   ],
   "source": [
    "if x>y:\n",
    "    print(\"x is greater than y\")\n",
    "else:\n",
    "print(\"x is not greater than y\")"
   ]
  },
  {
   "cell_type": "code",
   "execution_count": 22,
   "metadata": {},
   "outputs": [
    {
     "name": "stdout",
     "output_type": "stream",
     "text": [
      "welcome\n",
      "To\n",
      "Control structure\n"
     ]
    }
   ],
   "source": [
    "flag = True\n",
    "if flag==True:\n",
    "    print(\"welcome\")\n",
    "    print(\"To\")\n",
    "    print(\"Control structure\")"
   ]
  },
  {
   "cell_type": "code",
   "execution_count": 24,
   "metadata": {},
   "outputs": [
    {
     "name": "stdout",
     "output_type": "stream",
     "text": [
      "num is less than 200\n"
     ]
    }
   ],
   "source": [
    "num = 100\n",
    "if num < 200:\n",
    "    print(\"num is less than 200\")"
   ]
  },
  {
   "cell_type": "code",
   "execution_count": 27,
   "metadata": {},
   "outputs": [
    {
     "name": "stdout",
     "output_type": "stream",
     "text": [
      "Even number\n"
     ]
    }
   ],
   "source": [
    "num = 22\n",
    "if num % 2 == 0:\n",
    "    print(\"Even number\")\n",
    "else:\n",
    "    print(\"Odd number\")"
   ]
  },
  {
   "cell_type": "code",
   "execution_count": 28,
   "metadata": {},
   "outputs": [
    {
     "name": "stdout",
     "output_type": "stream",
     "text": [
      "three digit number\n"
     ]
    }
   ],
   "source": [
    "num = 1122\n",
    "if 9 < num < 99:\n",
    "    print(\"Two digit number\")\n",
    "elif 99 < num > 999:\n",
    "    print(\"three digit number\")\n",
    "    \n",
    "elif 999 < num < 9999:\n",
    "    print(\"four digit numbers\")\n",
    "    \n",
    "else:\n",
    "    print(\"number is<= 9 or >=9999\")"
   ]
  },
  {
   "cell_type": "code",
   "execution_count": 40,
   "metadata": {},
   "outputs": [
    {
     "name": "stdout",
     "output_type": "stream",
     "text": [
      "Negative Number\n",
      "Two Digits Negative Number\n"
     ]
    }
   ],
   "source": [
    "num = -99\n",
    "if num > 0:\n",
    "    print(\"Positive Number\")\n",
    "else:\n",
    "    print(\"Negative Number\")\n",
    "    #nested if\n",
    "    if -99 <= num:\n",
    "        print(\"Two Digits Negative Number\")"
   ]
  },
  {
   "cell_type": "code",
   "execution_count": 47,
   "metadata": {},
   "outputs": [
    {
     "name": "stdout",
     "output_type": "stream",
     "text": [
      "ten\n"
     ]
    }
   ],
   "source": [
    "num = 1000\n",
    "if 10 < num > 99:\n",
    "    print(\"ten\")\n",
    "elif 100 <= num <= 900:\n",
    "    print(\"hundreds\")\n",
    "elif 1000 <= num < 2000:\n",
    "    print(\"thousands\")\n",
    "elif 4000 < num < 8000:\n",
    "    print(\"thousands\")"
   ]
  },
  {
   "cell_type": "code",
   "execution_count": 49,
   "metadata": {},
   "outputs": [
    {
     "name": "stdout",
     "output_type": "stream",
     "text": [
      "what is the temperature in celsius40\n",
      "Done\n"
     ]
    }
   ],
   "source": [
    "temperature = int(input(\"what is the temperature in celsius?\"))\n",
    "if temperature > 40:\n",
    "    print(\"it is hot outside\")\n",
    "print(\"Done\")"
   ]
  },
  {
   "cell_type": "code",
   "execution_count": 50,
   "metadata": {},
   "outputs": [
    {
     "name": "stdout",
     "output_type": "stream",
     "text": [
      "what is your name? karol\n",
      "your name is ok. \n"
     ]
    }
   ],
   "source": [
    "userName = input(\"what is your name? \")\n",
    "if userName == \"Joseph\":\n",
    "    print(\"you have a nice name.\")\n",
    "else:\n",
    "    print(\"your name is ok. \")"
   ]
  },
  {
   "cell_type": "code",
   "execution_count": 53,
   "metadata": {},
   "outputs": [
    {
     "name": "stdout",
     "output_type": "stream",
     "text": [
      "what is the temperature in celsius?15\n",
      "it  is not hot outside\n",
      "done\n"
     ]
    }
   ],
   "source": [
    "temperature = int(input(\"what is the temperature in celsius?\"))\n",
    "if temperature > 25:\n",
    "    print(\"it is hot outside\")\n",
    "else:\n",
    "    print(\"it  is not hot outside\")\n",
    "    print(\"done\")"
   ]
  },
  {
   "cell_type": "code",
   "execution_count": 55,
   "metadata": {},
   "outputs": [
    {
     "name": "stdout",
     "output_type": "stream",
     "text": [
      "what is the temperature in celsius?90\n",
      "it is hot outside\n",
      "done\n"
     ]
    }
   ],
   "source": [
    "temperature = int(input(\"what is the temperature in celsius?\"))\n",
    "if temperature > 25:\n",
    "    print(\"it is hot outside\")\n",
    "elif temperature < 30:\n",
    "    print(\"it  is cold outside\")\n",
    "else:\n",
    "    print(\"it  is not hot outside\")  \n",
    "print(\"done\")"
   ]
  },
  {
   "cell_type": "code",
   "execution_count": null,
   "metadata": {},
   "outputs": [],
   "source": []
  }
 ],
 "metadata": {
  "kernelspec": {
   "display_name": "Python 3",
   "language": "python",
   "name": "python3"
  },
  "language_info": {
   "codemirror_mode": {
    "name": "ipython",
    "version": 3
   },
   "file_extension": ".py",
   "mimetype": "text/x-python",
   "name": "python",
   "nbconvert_exporter": "python",
   "pygments_lexer": "ipython3",
   "version": "3.8.3"
  }
 },
 "nbformat": 4,
 "nbformat_minor": 4
}
