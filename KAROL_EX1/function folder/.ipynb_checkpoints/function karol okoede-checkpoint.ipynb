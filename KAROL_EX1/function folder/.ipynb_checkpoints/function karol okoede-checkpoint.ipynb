{
 "cells": [
  {
   "cell_type": "code",
   "execution_count": 1,
   "metadata": {},
   "outputs": [
    {
     "name": "stdout",
     "output_type": "stream",
     "text": [
      "im first call to user defined functiom!\n",
      "Again second call to the same function\n"
     ]
    }
   ],
   "source": [
    "def printme( str ):\n",
    "    #This is a print function\n",
    "    print( str );\n",
    "    return;\n",
    "printme(\"im first call to user defined functiom!\");\n",
    "printme(\"Again second call to the same function\")"
   ]
  },
  {
   "cell_type": "code",
   "execution_count": 2,
   "metadata": {},
   "outputs": [
    {
     "name": "stdout",
     "output_type": "stream",
     "text": [
      "values inside the function: [10, 20, 30, [1, 2, 3, 4]]\n",
      "values outside the function:  [10, 20, 30, [1, 2, 3, 4]]\n"
     ]
    }
   ],
   "source": [
    "def changeme( mylist ):\n",
    "    #this changes a passed list\n",
    "    mylist.append([1,2,3,4])\n",
    "    print (\"values inside the function:\", mylist)\n",
    "    return\n",
    "mylist = [10,20,30]\n",
    "changeme( mylist )\n",
    "print (\"values outside the function: \", mylist)"
   ]
  },
  {
   "cell_type": "code",
   "execution_count": 3,
   "metadata": {},
   "outputs": [
    {
     "name": "stdout",
     "output_type": "stream",
     "text": [
      "values inside the function: [1, 2, 3, 4]\n",
      "values outside the function: [10, 20, 30]\n"
     ]
    }
   ],
   "source": [
    "def changeme( mylist ):\n",
    "    #This changes a passed list\n",
    "    mylist = [1,2,3,4];\n",
    "    print(\"values inside the function:\", mylist)\n",
    "    return\n",
    "mylist = [10,20,30];\n",
    "changeme( mylist );\n",
    "print(\"values outside the function:\", mylist)"
   ]
  },
  {
   "cell_type": "code",
   "execution_count": 4,
   "metadata": {},
   "outputs": [
    {
     "name": "stdout",
     "output_type": "stream",
     "text": [
      "my string\n"
     ]
    }
   ],
   "source": [
    "def printme( str ):\n",
    "    #This prints a passed string\n",
    "    print (str);\n",
    "    return;\n",
    "printme(str = \"my string\");"
   ]
  },
  {
   "cell_type": "code",
   "execution_count": 6,
   "metadata": {},
   "outputs": [
    {
     "name": "stdout",
     "output_type": "stream",
     "text": [
      "name:  miki\n",
      "age: 50\n"
     ]
    }
   ],
   "source": [
    "def printinfo( name, age):\n",
    "    #test function\n",
    "    print (\"name: \",name);\n",
    "    print (\"age:\" ,age);\n",
    "    return;\n",
    "printinfo( age=50, name=\"miki\");"
   ]
  },
  {
   "cell_type": "code",
   "execution_count": 7,
   "metadata": {},
   "outputs": [
    {
     "name": "stdout",
     "output_type": "stream",
     "text": [
      "name: miki\n",
      "age: 50\n",
      "name: miki\n",
      "age: 35\n"
     ]
    }
   ],
   "source": [
    "def printinfo( name, age = 35):\n",
    "    #test function\n",
    "    print (\"name:\", name);\n",
    "    print(\"age:\", age);\n",
    "    return;\n",
    "printinfo( age=50, name=\"miki\");\n",
    "printinfo( name=\"miki\");"
   ]
  },
  {
   "cell_type": "code",
   "execution_count": 10,
   "metadata": {},
   "outputs": [
    {
     "name": "stdout",
     "output_type": "stream",
     "text": [
      "output is: \n",
      "10\n",
      "output is: \n",
      "70\n",
      "60\n",
      "50\n"
     ]
    }
   ],
   "source": [
    "def printinfo( arg1, *vartuple):\n",
    "    #this is test\n",
    "    print (\"output is: \")\n",
    "    print (arg1)\n",
    "    for var in vartuple:\n",
    "        print (var)\n",
    "    return;\n",
    "printinfo(10);\n",
    "printinfo( 70, 60, 50);"
   ]
  },
  {
   "cell_type": "code",
   "execution_count": 11,
   "metadata": {},
   "outputs": [
    {
     "name": "stdout",
     "output_type": "stream",
     "text": [
      "value of total : 30\n",
      "value of total : 40\n"
     ]
    }
   ],
   "source": [
    "sum = lambda arg1, arg2: arg1 + arg2;\n",
    "print (\"value of total :\", sum( 10,20))\n",
    "print (\"value of total :\", sum( 20,20))"
   ]
  },
  {
   "cell_type": "code",
   "execution_count": 14,
   "metadata": {},
   "outputs": [
    {
     "name": "stdout",
     "output_type": "stream",
     "text": [
      "ïnside the function local total :  30\n",
      "outside of the global total :  50\n"
     ]
    }
   ],
   "source": [
    "total = 50; # This is global variable.\n",
    "def sum ( arg1, arg2 ):\n",
    "    #Add both the parameters\n",
    "    total = arg1 + arg2;\n",
    "    print(\"ïnside the function local total : \",total)\n",
    "    return total;\n",
    "# Now you can call sum function\n",
    "sum( 10,20 );\n",
    "print (\"outside of the global total : \",total)"
   ]
  },
  {
   "cell_type": "code",
   "execution_count": null,
   "metadata": {},
   "outputs": [],
   "source": [
    "def printme( str ):\n",
    "# this is a print function\n",
    "    print( str );\n",
    "    return; \n",
    "str = [\"Karol\", \"Oreoluwa\", \"Opaleye\", \"Adaobi\", \"Iseoluwa\", \"catherine\", \"Vivian\", \"Lourdes\", \"Henry\", \"Vaneasa\", \"Ire\", \"Michael\", \"Jeffery\", \"Belle\",  \"Carmilla\"]\n",
    "username = input(\"What is your name?\")\n",
    "if userName in str:\n",
    "    print(\"Welcome\")\n",
    "else:\n",
    "    print(\"You are not welcome\")\n",
    "\n"
   ]
  },
  {
   "cell_type": "code",
   "execution_count": null,
   "metadata": {},
   "outputs": [],
   "source": []
  }
 ],
 "metadata": {
  "kernelspec": {
   "display_name": "Python 3",
   "language": "python",
   "name": "python3"
  },
  "language_info": {
   "codemirror_mode": {
    "name": "ipython",
    "version": 3
   },
   "file_extension": ".py",
   "mimetype": "text/x-python",
   "name": "python",
   "nbconvert_exporter": "python",
   "pygments_lexer": "ipython3",
   "version": "3.8.3"
  }
 },
 "nbformat": 4,
 "nbformat_minor": 4
}
