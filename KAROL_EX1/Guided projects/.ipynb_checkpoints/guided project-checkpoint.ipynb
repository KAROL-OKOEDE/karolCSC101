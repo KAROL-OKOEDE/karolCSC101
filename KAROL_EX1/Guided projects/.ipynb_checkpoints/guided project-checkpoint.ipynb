{
 "cells": [
  {
   "cell_type": "code",
   "execution_count": null,
   "metadata": {},
   "outputs": [],
   "source": []
  },
  {
   "cell_type": "code",
   "execution_count": 22,
   "metadata": {
    "scrolled": false
   },
   "outputs": [
    {
     "name": "stdout",
     "output_type": "stream",
     "text": [
      "Please state your nameKarol\n",
      "Welcome\n"
     ]
    }
   ],
   "source": [
    "lis1 = [\"Karol\", \"Oreoluwa\", \"Opaleye\", \"Adaobi\", \"Iseoluwa\", \"catherine\", \"Vivian\", \"Lourdes\", \"Henry\", \"Vaneasa\",\"Ire\", \"Michael\", \"Jeffery\", \"Belle\",\"Carmilla\"]\n",
    "userName = input(\"Please state your name\")\n",
    "if userName in lis1:\n",
    "    print(\"Welcome\")\n",
    "else:\n",
    "    print(\"You are not welcome\")\n",
    "\n"
   ]
  },
  {
   "cell_type": "code",
   "execution_count": 7,
   "metadata": {},
   "outputs": [
    {
     "name": "stdout",
     "output_type": "stream",
     "text": [
      "where is the package to be delivered?pau\n",
      "how much kg does it weigh4\n",
      "you are charged #1500\n"
     ]
    }
   ],
   "source": [
    "location = input(\"where is the package to be delivered?\")\n",
    "weight = int(input(\"how much kg does it weigh\"))\n",
    "if weight >= 10 and location == \"pau\":\n",
    "    print(\"you are charged #2000\")\n",
    "elif weight <= 10 and location == \"pau\":\n",
    "    print(\"you are charged #1500\")\n",
    "elif weight >= 10 and location == \"epe\":\n",
    "    print(\"you are charged #5000\")\n",
    "elif weight <= 10 and location == \"epe\":\n",
    "    print(\"you are charged #4000\")\n",
    "    \n",
    "\n",
    "    \n"
   ]
  },
  {
   "cell_type": "code",
   "execution_count": 23,
   "metadata": {},
   "outputs": [
    {
     "name": "stdout",
     "output_type": "stream",
     "text": [
      "what is your jamb score 230\n",
      "how many credits do you have 5\n",
      "have you passed your interview yes\n",
      "you are not accepted into PAU\n"
     ]
    }
   ],
   "source": [
    "score = int(input(\"what is your jamb score\"))\n",
    "Credit = int(input(\"how many credits do you have\"))\n",
    "interview = input(\"have you passed your interview\")\n",
    "if score >= 230 and Credit >= 5 and interview == \"yes\":\n",
    "     print(\"Welcome to PAU\")\n",
    "else:\n",
    "    print(\"you are not accepted into PAU\")\n",
    "\n",
    "\n"
   ]
  },
  {
   "cell_type": "code",
   "execution_count": null,
   "metadata": {},
   "outputs": [],
   "source": []
  }
 ],
 "metadata": {
  "kernelspec": {
   "display_name": "Python 3",
   "language": "python",
   "name": "python3"
  }
 },
 "nbformat": 4,
 "nbformat_minor": 4
}
